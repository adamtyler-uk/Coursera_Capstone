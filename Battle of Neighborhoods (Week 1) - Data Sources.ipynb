{
    "cells": [
        {
            "cell_type": "markdown",
            "metadata": {
                "collapsed": true
            },
            "source": "# Battle of the Neighborhoods - Moving to Toronto\n \n## Data Sources\n\nAs part of this project I will be analysing locational data for Toronto, Ontario, Canada. and using the following datasets:\n\n### Source 1, List of Neighbourhoods\n\nTo gather the list of neighbourhoods in Toronto I will be web scraping the data from Wikipedia using Pandas which shows all Boroughs and Neighbourhoods with a postal code starting with the letter M.\n\nhttps://en.wikipedia.org/wiki/List_of_postal_codes_of_Canada:_M\n\n### Source 2, Geolocation data\n\nThis data source provides geographical coordinates of the neighbourhoods which will be attached to the existing neighbourhood pandas data frame.\n\nhttps://cocl.us/Geospatial_data\n\n### Source 3, Venue data\n\nI will be using the venue data from the Foursquare API using geolocation data from the previous data frame to gather information on different types of venues in each neighbourhood.\n\n### Source 4, Crime data\n\nTo be able to analyse the crime rate of a given neighbourhood I am using an anonymous dataset freely available on the internet from the Toronto Police Service public safety data portal including all Major Crime Indicators (MCI). I will be using the full year data from 2019 which i have downloaded to a CSV and can import into a pandas data frame for analysis. I will be grouping the data into number of crimes in each neighbourhood.\n\nhttps://data.torontopolice.on.ca/datasets/mci-2014-to-2019"
        }
    ],
    "metadata": {
        "kernelspec": {
            "display_name": "Python 3.6",
            "language": "python",
            "name": "python3"
        },
        "language_info": {
            "codemirror_mode": {
                "name": "ipython",
                "version": 3
            },
            "file_extension": ".py",
            "mimetype": "text/x-python",
            "name": "python",
            "nbconvert_exporter": "python",
            "pygments_lexer": "ipython3",
            "version": "3.6.9"
        }
    },
    "nbformat": 4,
    "nbformat_minor": 1
}