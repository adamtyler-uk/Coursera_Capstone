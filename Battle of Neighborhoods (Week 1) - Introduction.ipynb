{
    "cells": [
        {
            "cell_type": "markdown",
            "metadata": {
                "collapsed": true
            },
            "source": "# Battle of the Neighborhoods - Moving to Toronto\n\n# Introduction\n\n## Background\n\nToronto is the most populated city in Canada and the provincial capital of Ontario. Due to this high populous, Toronto is recognized as one of the most multicultural and cosmopolitan cities in the world. Due to the diverse population it is a great place to be able to sample different cuisines and cultures along with being an international centre of business, finance and arts it is a very sought after location to live.\n\n## Description\n\nMoving to a new city / location is a big decision and there are a whole host of criteria to use but we have 3 main focuses on food, exercise and crime rates. This analysis will be able to narrow down the location to a neighbourhood cluster to allow the clients to search in a much smaller geographical location. The data used in this project will be able to also narrow down to certain cuisines in each area if the requirement arises.\n\nMy task for this project is to use geographical location based information from multiple sources on restaurant and exercise venues as well as using the regional crime rates to find the best neighbourhood for an aspiring food blogger/individual with an interest in the food industry to move to in Toronto. \n\n## Target Audience\n\nThis project is aimed at aspiring food bloggers / people with an interest in a diverse cuisine moving to Canada who lead an active lifestyle. I will be using the key criteria of number of restaurants, cafes, gyms and parks by neighbourhood and also using the regional crime rate to determine safer neighbourhoods."
        }
    ],
    "metadata": {
        "kernelspec": {
            "display_name": "Python 3.6",
            "language": "python",
            "name": "python3"
        },
        "language_info": {
            "codemirror_mode": {
                "name": "ipython",
                "version": 3
            },
            "file_extension": ".py",
            "mimetype": "text/x-python",
            "name": "python",
            "nbconvert_exporter": "python",
            "pygments_lexer": "ipython3",
            "version": "3.6.9"
        }
    },
    "nbformat": 4,
    "nbformat_minor": 1
}